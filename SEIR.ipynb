{
  "nbformat": 4,
  "nbformat_minor": 0,
  "metadata": {
    "colab": {
      "name": "SEIR",
      "provenance": [],
      "collapsed_sections": []
    },
    "kernelspec": {
      "name": "python3",
      "display_name": "Python 3"
    },
    "language_info": {
      "name": "python"
    }
  },
  "cells": [
    {
      "cell_type": "markdown",
      "metadata": {
        "id": "duuKfLGSZ5ur"
      },
      "source": [
        "#The SEIR epidemic model\n",
        "Prepared by Jayendran V (IEOR, IIT Bombay)\n",
        "\n",
        "A  basic model for the spread of a disease is the Susceptible, Exposed, Infected, Recovered (SEIR) model. This model splits a population into four groups.\n",
        "\n",
        "* $S(t)$ - the part of the population that is succeptible but not yet infected with the disease\n",
        "* $E(t)$ - the part of the population that is exposed to the virus but not yet show any symptoms of the disease (i.e., virus is incubating)\n",
        "* $I(t)$ - the part of the population that is infected with the disease\n",
        "* $R(t)$ - the part of the population that has recovered from the disease.\n",
        "\n",
        "The SEIR model uses a system of ODE's to describe how these four groups change over time. The model uses only the contact ratio $\\beta$, the average incubation time $1/\\alpha$ and the mean recovery time $1/\\gamma$.\n",
        "\n",
        "The python implementation of the SEIR model can be found below. It is based on the SIR version of the epidemics model that can be found at https://scipython.com/book/chapter-8-scipy/additional-examples/the-sir-epidemic-model/.\n"
      ]
    },
    {
      "cell_type": "code",
      "metadata": {
        "id": "LKV9aWL1seCK"
      },
      "source": [
        "import math\n",
        "import numpy as np\n",
        "import matplotlib.pyplot as plt\n",
        "from scipy.integrate import odeint\n",
        "# We will be using Scipy's ODEINT to do the simulation"
      ],
      "execution_count": null,
      "outputs": []
    },
    {
      "cell_type": "code",
      "metadata": {
        "id": "GGQ56YWCsi-1"
      },
      "source": [
        "# The SEIR differential equations.\n",
        "def SEIRmodel(y, t, N, beta, alpha, gamma):\n",
        "  S, E, I, R = y\n",
        "  dS_dt = -beta*S*I/N\n",
        "  dE_dt = beta*S*I/N - alpha*E\n",
        "  dI_dt = alpha*E - gamma*I\n",
        "  dR_dt = gamma*I\n",
        "  return dS_dt, dE_dt, dI_dt, dR_dt"
      ],
      "execution_count": null,
      "outputs": []
    },
    {
      "cell_type": "markdown",
      "metadata": {
        "id": "Pg_BWqZCsu4X"
      },
      "source": [
        "Let's set the initial parameters and run the model"
      ]
    },
    {
      "cell_type": "code",
      "metadata": {
        "id": "QVUpIiZltNMO"
      },
      "source": [
        "#Initial conditions: You can change this to get different epidemic dynamics\n",
        "N = 1000.     # Total Population\n",
        "beta = 0.4   # the effective contact+infectivity rate\n",
        "alpha = 1./3  # rate of showing symptoms\n",
        "gamma = 1./15   # the mean recovery rate\n",
        "\n",
        "#Initial population values\n",
        "I0, E0, R0 = 1., 0, 0\n",
        "S0 = N - I0 - R0 - E0\n",
        "\n",
        "# Initial conditions vector\n",
        "y0 = S0, E0, I0, R0\n",
        "\n",
        "#timepoints, simulating for 200 time periods\n",
        "t = np.linspace(0, 200, 200)\n",
        "\n",
        "# Integrate/Simulate the SEIR equations over the time grid, t.\n",
        "eqn = odeint(SEIRmodel, y0, t, args=(N, beta, alpha, gamma))\n",
        "\n",
        "#Post processing\n",
        "S, E, I, R = eqn.T"
      ],
      "execution_count": null,
      "outputs": []
    },
    {
      "cell_type": "markdown",
      "metadata": {
        "id": "USKUBhzMu6hq"
      },
      "source": [
        "We can also plot the results.  "
      ]
    },
    {
      "cell_type": "code",
      "metadata": {
        "colab": {
          "base_uri": "https://localhost:8080/",
          "height": 279
        },
        "id": "doEXVc_ftksg",
        "outputId": "9ac7c5e6-8426-429f-ca1a-b0f7e868d312"
      },
      "source": [
        "# Plot the data on three separate curves for S(t), I(t) and R(t)\n",
        "plt.plot(S, label='Susceptible')\n",
        "plt.plot(I, label='Infected')\n",
        "plt.plot(R, label='Recovered')\n",
        "plt.legend()\n",
        "plt.xlabel('Days')\n",
        "plt.grid()"
      ],
      "execution_count": null,
      "outputs": [
        {
          "output_type": "display_data",
          "data": {
            "image/png": "[encoded data removed]",
            "text/plain": [
              "<Figure size 432x288 with 1 Axes>"
            ]
          },
          "metadata": {
            "needs_background": "light"
          }
        }
      ]
    },
    {
      "cell_type": "markdown",
      "metadata": {
        "id": "AETuDhI2upKz"
      },
      "source": [
        "Using the data we can also compute other metrics such as the maximum Infections, the time of maximum infections, the total Recovered, etc."
      ]
    },
    {
      "cell_type": "code",
      "metadata": {
        "colab": {
          "base_uri": "https://localhost:8080/"
        },
        "id": "u63g02djvGSG",
        "outputId": "33cbd97d-99f7-4449-883d-c69cfdcedf8e"
      },
      "source": [
        "\n",
        "print(\"Maximum infections: \", max(I))\n",
        "peaktime = np.where(I==max(I))\n",
        "print(\"The peak infection occurs on day \", peaktime[0][0])\n",
        "print(\"The total people infected & recovered is \", R[-1])"
      ],
      "execution_count": null,
      "outputs": [
        {
          "output_type": "stream",
          "text": [
            "Maximum infections:  433.4087850288814\n",
            "The peak infection occurs on day  44\n",
            "The total people infected & recovered is  997.4575477302687\n"
          ],
          "name": "stdout"
        }
      ]
    },
    {
      "cell_type": "markdown",
      "metadata": {
        "id": "qqXXIqPKwpcL"
      },
      "source": [
        "By changing the above input values of beta, alpha, gamma, S0, and N we can  get different epidemic dynamics.  Try it!"
      ]
    },
    {
      "cell_type": "markdown",
      "metadata": {
        "id": "yzY3JLDhwS9o"
      },
      "source": [
        "## Creating a meta function\n",
        "\n",
        "Scrolling up and changing the values each time is quite cumbersome.  We can write a meta-function that will do the simulation run as per given configuration.\n",
        "\n",
        "Let's go ahead and write such a function.\n"
      ]
    },
    {
      "cell_type": "code",
      "metadata": {
        "id": "enJzvC5weseO"
      },
      "source": [
        "# This calls the SIRmodel function\n",
        "def SEIRsim(N = 1000,     # Total Population, default = 1000\n",
        "           beta = 0.25,   # the effective contact+infectivity rate\n",
        "           alpha = 1./3,  # rate of showing symptoms\n",
        "           gamma = 1./15    # the mean recovery rate\n",
        "           ):\n",
        "  #Initial conditions\n",
        "  I0, E0, R0 = 1, 0, 0\n",
        "  S0 = N - I0 - R0 - E0\n",
        "  # Initial conditions vector\n",
        "  y0 = S0, E0, I0, R0\n",
        "\n",
        "  #timepoints\n",
        "  t = np.linspace(0, 200, 200)\n",
        "\n",
        "  # Integrate/Simulate the SIR equations over the time grid, t.\n",
        "  eqn = odeint(SEIRmodel, y0, t, args=(N, beta, alpha, gamma))\n",
        "\n",
        "  # Post processing\n",
        "  S, E, I, R = eqn.T\n",
        "  peaktime = np.where(I==max(I))\n",
        "\n",
        "  #Return the SEIR timeseries, Max Infections and Time of Max Infections\n",
        "  return S, E, I, R, max(I), peaktime[0][0]"
      ],
      "execution_count": null,
      "outputs": []
    },
    {
      "cell_type": "markdown",
      "metadata": {
        "id": "qQiezVTCx8rl"
      },
      "source": [
        "Now we can call this SEIRsim model with different inputs more easily"
      ]
    },
    {
      "cell_type": "code",
      "metadata": {
        "id": "gmiOlx0rskMG",
        "colab": {
          "base_uri": "https://localhost:8080/"
        },
        "outputId": "6fcb9cde-0be7-4139-892f-b257e6d7cf04"
      },
      "source": [
        "#Run the simulation model, with none or some or all the inputs. \n",
        "#For inputs that are unspecified, the default values will be used.\n",
        "S, E, I, R, maxI, peaktime = SEIRsim()\n",
        "print('Max infections is ', maxI, 'on day ', peaktime)\n",
        "\n",
        "#Another set  #For inputs that are unspecified, the default values will be used.\n",
        "S, E, I, R, maxI, peaktime = SEIRsim(beta=0.4, alpha=1/5)\n",
        "print('Max infections is ', maxI, 'on day ', peaktime)"
      ],
      "execution_count": null,
      "outputs": [
        {
          "output_type": "stream",
          "text": [
            "Max infections is  313.4422179074157 on day  66\n",
            "Max infections is  384.1814747356115 on day  53\n"
          ],
          "name": "stdout"
        }
      ]
    },
    {
      "cell_type": "markdown",
      "metadata": {
        "id": "-32D5LqaydyL"
      },
      "source": [
        "Now if we plot, it will plot only the last run (note that S, E, I, R get overwritten when we call it each time)"
      ]
    },
    {
      "cell_type": "code",
      "metadata": {
        "colab": {
          "base_uri": "https://localhost:8080/",
          "height": 279
        },
        "id": "CSJqo-cvtoI4",
        "outputId": "ef7e4438-4909-48f2-f7d5-c9023860dbd0"
      },
      "source": [
        "# Plot the data on three separate curves for S(t), I(t) and R(t)\n",
        "plt.plot(S, label='Susceptible')\n",
        "plt.plot(I, label='Infected')\n",
        "plt.plot(R, label='Recovered')\n",
        "plt.legend()\n",
        "plt.xlabel('Days')\n",
        "plt.grid()"
      ],
      "execution_count": null,
      "outputs": [
        {
          "output_type": "display_data",
          "data": {
            "image/png": "[encoded data removed]",
            "text/plain": [
              "<Figure size 432x288 with 1 Axes>"
            ]
          },
          "metadata": {
            "needs_background": "light"
          }
        }
      ]
    },
    {
      "cell_type": "code",
      "metadata": {
        "id": "YIwNz5DaUHmH"
      },
      "source": [
        ""
      ],
      "execution_count": null,
      "outputs": []
    }
  ]
}